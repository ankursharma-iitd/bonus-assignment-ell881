{
 "cells": [
  {
   "cell_type": "code",
   "execution_count": 1,
   "metadata": {},
   "outputs": [],
   "source": [
    "import tensorflow as tf\n",
    "tf.enable_eager_execution()"
   ]
  },
  {
   "cell_type": "code",
   "execution_count": 2,
   "metadata": {},
   "outputs": [],
   "source": [
    "sentences_file = '../data/wiki.1M.txt.tokenized'"
   ]
  },
  {
   "cell_type": "code",
   "execution_count": 3,
   "metadata": {},
   "outputs": [],
   "source": [
    "def get_chars_from_first_word(words):\n",
    "    sparse_split_first_word = tf.string_split([words[0]], delimiter='')\n",
    "    dense_split_first_word = tf.sparse_tensor_to_dense(sparse_split_first_word, default_value='UNK')\n",
    "    return tf.squeeze(dense_split_first_word, axis=0)"
   ]
  },
  {
   "cell_type": "code",
   "execution_count": 4,
   "metadata": {},
   "outputs": [],
   "source": [
    "dataset = tf.data.TextLineDataset(sentences_file)\n",
    "dataset = dataset.map(lambda sentence: tf.string_split([sentence]).values)\n",
    "dataset = dataset.map(lambda words : (words, get_chars_from_first_word(words)))\n",
    "dataset = dataset.padded_batch(batch_size=2, padded_shapes=([None], [None]))\n",
    "dataset_iter = iter(dataset)\n",
    "words_batch = next(dataset_iter)"
   ]
  },
  {
   "cell_type": "code",
   "execution_count": 5,
   "metadata": {},
   "outputs": [
    {
     "data": {
      "text/plain": [
       "(<tf.Tensor: id=39, shape=(2, 25), dtype=string, numpy=\n",
       " array([[b'anarchism', b'is', b'a', b'political', b'philosophy', b'that',\n",
       "         b'advocates', b'self-governed', b'societies', b'based', b'on',\n",
       "         b'voluntary', b'institutions', b'.', b'', b'', b'', b'', b'',\n",
       "         b'', b'', b'', b'', b'', b''],\n",
       "        [b'these', b'are', b'often', b'described', b'as', b'stateless',\n",
       "         b'societies', b',', b'although', b'several', b'authors', b'have',\n",
       "         b'defined', b'them', b'more', b'specifically', b'as',\n",
       "         b'institutions', b'based', b'on', b'non-hierarchical', b'or',\n",
       "         b'free', b'associations', b'.']], dtype=object)>,\n",
       " <tf.Tensor: id=40, shape=(2, 9), dtype=string, numpy=\n",
       " array([[b'a', b'n', b'a', b'r', b'c', b'h', b'i', b's', b'm'],\n",
       "        [b't', b'h', b'e', b's', b'e', b'', b'', b'', b'']], dtype=object)>)"
      ]
     },
     "execution_count": 5,
     "metadata": {},
     "output_type": "execute_result"
    }
   ],
   "source": [
    "words_batch"
   ]
  },
  {
   "cell_type": "code",
   "execution_count": null,
   "metadata": {},
   "outputs": [],
   "source": []
  }
 ],
 "metadata": {
  "kernelspec": {
   "display_name": "Python 3",
   "language": "python",
   "name": "python3"
  },
  "language_info": {
   "codemirror_mode": {
    "name": "ipython",
    "version": 3
   },
   "file_extension": ".py",
   "mimetype": "text/x-python",
   "name": "python",
   "nbconvert_exporter": "python",
   "pygments_lexer": "ipython3",
   "version": "3.6.6"
  }
 },
 "nbformat": 4,
 "nbformat_minor": 2
}
